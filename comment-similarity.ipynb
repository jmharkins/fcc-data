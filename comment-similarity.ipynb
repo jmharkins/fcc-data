{
 "cells": [
  {
   "cell_type": "markdown",
   "metadata": {},
   "source": [
    "# Cosine Similarity on FCC comments"
   ]
  },
  {
   "cell_type": "code",
   "execution_count": 28,
   "metadata": {
    "collapsed": true
   },
   "outputs": [],
   "source": [
    "import pandas as pd\n",
    "import numpy as np\n",
    "from sklearn import feature_extraction, pipeline, metrics, preprocessing \n",
    "import os\n",
    "import json\n",
    "import seaborn as sns"
   ]
  },
  {
   "cell_type": "code",
   "execution_count": 2,
   "metadata": {},
   "outputs": [
    {
     "name": "stdout",
     "output_type": "stream",
     "text": [
      "Populating the interactive namespace from numpy and matplotlib\n"
     ]
    }
   ],
   "source": [
    "%pylab inline"
   ]
  },
  {
   "cell_type": "markdown",
   "metadata": {},
   "source": [
    "### Load single file (10k comments)"
   ]
  },
  {
   "cell_type": "code",
   "execution_count": 3,
   "metadata": {
    "collapsed": true
   },
   "outputs": [],
   "source": [
    "data_dir = 'ECFS_17-108_1'"
   ]
  },
  {
   "cell_type": "code",
   "execution_count": 4,
   "metadata": {
    "collapsed": true
   },
   "outputs": [],
   "source": [
    "filenames = os.listdir(data_dir)"
   ]
  },
  {
   "cell_type": "code",
   "execution_count": 5,
   "metadata": {
    "collapsed": true
   },
   "outputs": [],
   "source": [
    "comment_file = filenames[0]\n",
    "with open(data_dir + '/'+ comment_file, 'rr') as comment_fobj:\n",
    "    comments = json.load(comment_fobj)"
   ]
  },
  {
   "cell_type": "code",
   "execution_count": 6,
   "metadata": {},
   "outputs": [
    {
     "data": {
      "text/plain": [
       "10000"
      ]
     },
     "execution_count": 6,
     "metadata": {},
     "output_type": "execute_result"
    }
   ],
   "source": [
    "len(comments)"
   ]
  },
  {
   "cell_type": "markdown",
   "metadata": {},
   "source": [
    "### Examine data structure of each comment record"
   ]
  },
  {
   "cell_type": "code",
   "execution_count": 7,
   "metadata": {
    "collapsed": true
   },
   "outputs": [],
   "source": [
    "comment = comments[1]"
   ]
  },
  {
   "cell_type": "markdown",
   "metadata": {},
   "source": [
    "Each comment is a dictionary with the below keys"
   ]
  },
  {
   "cell_type": "code",
   "execution_count": 8,
   "metadata": {},
   "outputs": [
    {
     "data": {
      "text/plain": [
       "dict"
      ]
     },
     "execution_count": 8,
     "metadata": {},
     "output_type": "execute_result"
    }
   ],
   "source": [
    "type(comment)"
   ]
  },
  {
   "cell_type": "code",
   "execution_count": 9,
   "metadata": {},
   "outputs": [
    {
     "name": "stdout",
     "output_type": "stream",
     "text": [
      "[u'date_last_modified', u'date_disseminated', u'report_number', u'total_page_count', u'id_edocs', u'entity', u'reg_flex_analysis', u'internationaladdressentity', u'text_data', u'id_submission', u'file_number', u'text_data_docs', u'documents', u'fcc_record', u'date_submission', u'is_staff_upload', u'filingstatus', u'date_received', u'date_comment_period', u'addressentity', u'filers', u'bureau_id', u'small_business_impact', u'submissiontype', u'is_action', u'lawfirms', u'authors', u'viewingstatus', u'bureaus', u'delegated_authority_number', u'_index', u'express_comment', u'trackChanges', u'date_reply_comment', u'proceedings']\n"
     ]
    }
   ],
   "source": [
    "print comment.keys()"
   ]
  },
  {
   "cell_type": "markdown",
   "metadata": {},
   "source": [
    "The `text_data` field contains the text of the comment if it was entered as text instead of an attached document, and the `id_submission` key is the unique key for each record. "
   ]
  },
  {
   "cell_type": "markdown",
   "metadata": {},
   "source": [
    "Make a numpy matrix of records that have text data as a field and some text entered in the field"
   ]
  },
  {
   "cell_type": "code",
   "execution_count": 10,
   "metadata": {
    "collapsed": true
   },
   "outputs": [],
   "source": [
    "comment_text = pd.Series({i['id_submission']:i['text_data'] for i in comments\n",
    "                             if ('text_data' in i) and len(i['text_data']) > 0})"
   ]
  },
  {
   "cell_type": "code",
   "execution_count": 11,
   "metadata": {},
   "outputs": [
    {
     "data": {
      "text/plain": [
       "(9945,)"
      ]
     },
     "execution_count": 11,
     "metadata": {},
     "output_type": "execute_result"
    }
   ],
   "source": [
    "text_matrix = comment_text.values\n",
    "text_matrix.shape"
   ]
  },
  {
   "cell_type": "markdown",
   "metadata": {},
   "source": [
    "Check out the length of the text entered in the field. The smallest entries seems to actually be complete text so I'll leave them in for analysis"
   ]
  },
  {
   "cell_type": "code",
   "execution_count": 12,
   "metadata": {},
   "outputs": [
    {
     "data": {
      "text/plain": [
       "10430209710869      3\n",
       "104303015524263     3\n",
       "10428054006393      9\n",
       "10501276272447     19\n",
       "104280741803285    20\n",
       "10428652221977     20\n",
       "1043025441907      20\n",
       "10428852220306     21\n",
       "10429359506455     21\n",
       "10428633709110     22\n",
       "dtype: int64"
      ]
     },
     "execution_count": 12,
     "metadata": {},
     "output_type": "execute_result"
    }
   ],
   "source": [
    "comment_text.map(lambda x: len(x)).nsmallest(10)"
   ]
  },
  {
   "cell_type": "code",
   "execution_count": 13,
   "metadata": {},
   "outputs": [
    {
     "data": {
      "text/plain": [
       "10430209710869                        NO!\n",
       "104303015524263                       NO!\n",
       "10428054006393                  Vote \"NO\"\n",
       "10501276272447        keep net neutrality\n",
       "104280741803285      Save net neutrality!\n",
       "10428652221977       Please don't do this\n",
       "1043025441907        Keep the net neutral\n",
       "10428852220306      A vote against 17-108\n",
       "10429359506455      I disagree with these\n",
       "10428633709110     Retain net neutrality!\n",
       "dtype: object"
      ]
     },
     "execution_count": 13,
     "metadata": {},
     "output_type": "execute_result"
    }
   ],
   "source": [
    "comment_text.loc[comment_text.map(lambda x: len(x)).nsmallest(10).index]"
   ]
  },
  {
   "cell_type": "markdown",
   "metadata": {},
   "source": [
    "Build a pipeline to compute cosine similarity, treating the comments as documents. "
   ]
  },
  {
   "cell_type": "code",
   "execution_count": 14,
   "metadata": {
    "collapsed": true
   },
   "outputs": [],
   "source": [
    "doc_vec_pipe = pipeline.make_pipeline(\n",
    "    feature_extraction.text.CountVectorizer(),\n",
    "    feature_extraction.text.TfidfTransformer(),\n",
    "    preprocessing.FunctionTransformer(metrics.pairwise.cosine_similarity, validate=False)\n",
    ")"
   ]
  },
  {
   "cell_type": "code",
   "execution_count": 15,
   "metadata": {
    "collapsed": true
   },
   "outputs": [],
   "source": [
    "comment_sim = doc_vec_pipe.fit_transform(text_matrix)"
   ]
  },
  {
   "cell_type": "code",
   "execution_count": 16,
   "metadata": {
    "collapsed": true
   },
   "outputs": [],
   "source": [
    "sim_df = pd.DataFrame(comment_sim, index=comment_text.index, columns=comment_text.index)"
   ]
  },
  {
   "cell_type": "markdown",
   "metadata": {},
   "source": [
    "Since the matrix of similarities is pairwise, I halve it and remove the diagonal entries in order to summarize the frequency of different degrees of computed similarity. The result is that quite a few documents are 1.0 on cosine similarity indicating they have precisely the same tf-idf matrix. "
   ]
  },
  {
   "cell_type": "code",
   "execution_count": 17,
   "metadata": {},
   "outputs": [
    {
     "name": "stdout",
     "output_type": "stream",
     "text": [
      "Deciles of computed comment similarity\n",
      "0.1    0.083993\n",
      "0.2    0.130317\n",
      "0.3    0.175486\n",
      "0.4    0.231025\n",
      "0.5    0.282587\n",
      "0.6    0.285804\n",
      "0.7    0.399911\n",
      "0.8    1.000000\n",
      "0.9    1.000000\n",
      "Name: similarity, dtype: float64\n"
     ]
    }
   ],
   "source": [
    "half_df_len = int(np.ceil(len(sim_df)/2.))\n",
    "half_df_long = sim_df.iloc[:half_df_len].stack().reset_index()\n",
    "half_df_long.columns = ['comm_1', 'comm_2', 'similarity']\n",
    "half_df_long = half_df_long.loc[(half_df_long.comm_1 != half_df_long.comm_2)].copy()\n",
    "print 'Deciles of computed comment similarity'\n",
    "print half_df_long.similarity.quantile(np.arange(0.1,1,0.1))"
   ]
  },
  {
   "cell_type": "markdown",
   "metadata": {},
   "source": [
    "In fact - going back to the matrix of original comment text, 6364 of the original ~9950 are duplicated comments, and there are only 3581 unique document"
   ]
  },
  {
   "cell_type": "code",
   "execution_count": 18,
   "metadata": {},
   "outputs": [
    {
     "name": "stdout",
     "output_type": "stream",
     "text": [
      "duplicated comments: 6364\n",
      "total unique documents: 3581\n"
     ]
    }
   ],
   "source": [
    "print 'duplicated comments:', comment_text.str.lower().duplicated().sum()\n",
    "print 'total unique documents:', comment_text.str.lower().nunique()"
   ]
  },
  {
   "cell_type": "code",
   "execution_count": 19,
   "metadata": {
    "collapsed": true
   },
   "outputs": [],
   "source": [
    "orig_is_duplicated = comment_text.str.lower().duplicated(keep=False)\n",
    "unique_docs = comment_text.str.lower().drop_duplicates(keep='first')"
   ]
  },
  {
   "cell_type": "code",
   "execution_count": 20,
   "metadata": {},
   "outputs": [
    {
     "data": {
      "text/plain": [
       "10427001400172      True\n",
       "1042700369437       True\n",
       "104270060314698     True\n",
       "104270076028229    False\n",
       "10427008522807     False\n",
       "10427008740029     False\n",
       "104270106518349     True\n",
       "10427013726370      True\n",
       "10427014023199      True\n",
       "10427015307336      True\n",
       "dtype: bool"
      ]
     },
     "execution_count": 20,
     "metadata": {},
     "output_type": "execute_result"
    }
   ],
   "source": [
    "orig_is_duplicated.head(10)"
   ]
  },
  {
   "cell_type": "code",
   "execution_count": 21,
   "metadata": {
    "collapsed": true
   },
   "outputs": [],
   "source": [
    "unique_docs = comment_text.loc[unique_docs.index]"
   ]
  },
  {
   "cell_type": "markdown",
   "metadata": {},
   "source": [
    "### Duplicated comments"
   ]
  },
  {
   "cell_type": "markdown",
   "metadata": {},
   "source": [
    "Looking at documents that are extremely similar but not the same reveals largely identical comments with one/two small differences in additional phrases or sentences. "
   ]
  },
  {
   "cell_type": "code",
   "execution_count": 22,
   "metadata": {
    "collapsed": true
   },
   "outputs": [],
   "source": [
    "# using the long DF with diagonal entries removed, find some comments that are similar between 0.9 & 1\n",
    "sim_only = half_df_long.set_index(['comm_1','comm_2'])\n",
    "sim_comment_idxes = sim_only.loc[(sim_only.similarity >= 0.90) & (sim_only.similarity < 1)].index.values"
   ]
  },
  {
   "cell_type": "code",
   "execution_count": 23,
   "metadata": {},
   "outputs": [
    {
     "data": {
      "text/plain": [
       "u'Obama\\u2019s Title II order has diminished broadband investment, stifled innovation, and left American consumers potentially on the hook for a new broadband tax.\\r\\n\\r\\nThese regulations ended a decades-long bipartisan consensus that the Internet should be regulated through a light touch framework that worked better than anyone could have imagined and made the Internet what it is.\\r\\n\\r\\nFor these reasons I urge you to fully repeal the Obama/Wheeler Internet regulations.'"
      ]
     },
     "execution_count": 23,
     "metadata": {},
     "output_type": "execute_result"
    }
   ],
   "source": [
    "comment_text.loc[sim_comment_idxes[2][0]]"
   ]
  },
  {
   "cell_type": "code",
   "execution_count": 24,
   "metadata": {},
   "outputs": [
    {
     "data": {
      "text/plain": [
       "u\"Obama\\u2019s Title II order has diminished broadband investment, stifled innovation, and left American consumers potentially on the hook for a new broadband tax.\\r\\n\\r\\nThese regulations ended a decades-long bipartisan consensus that the Internet should be regulated through a light touch framework that worked better than anyone could have imagined and made the Internet what it is. WE DON'T NEED ANOTHER OBAMA ERA TAX.\\r\\n\\r\\nFor these reasons I urge you to fully repeal the Obama/Wheeler Internet regulations.\""
      ]
     },
     "execution_count": 24,
     "metadata": {},
     "output_type": "execute_result"
    }
   ],
   "source": [
    "comment_text.loc[sim_comment_idxes[2][1]]"
   ]
  },
  {
   "cell_type": "markdown",
   "metadata": {},
   "source": [
    "Plotting the similarity for the 5 most duplicated comments there's a clear separation between other comments and those that are duplicates or near-duplicates of the original"
   ]
  },
  {
   "cell_type": "code",
   "execution_count": 25,
   "metadata": {},
   "outputs": [],
   "source": [
    "five_most_common = comment_text.value_counts().head(5).index\n",
    "mc_doc_ids = unique_docs.loc[unique_docs.isin(five_most_common)].index"
   ]
  },
  {
   "cell_type": "code",
   "execution_count": 64,
   "metadata": {},
   "outputs": [
    {
     "data": {
      "image/png": "[encoded data removed]",
      "text/plain": [
       "<matplotlib.figure.Figure at 0x11ce923d0>"
      ]
     },
     "metadata": {},
     "output_type": "display_data"
    }
   ],
   "source": [
    "fig, axes = plt.subplots(2,3, sharex=True, sharey=True)\n",
    "fig.set_size_inches(10,5)\n",
    "fig.suptitle('Comment similarity to 5 most common comments')\n",
    "for n, did in enumerate(mc_doc_ids):\n",
    "    i = n % 3\n",
    "    j = n / 3\n",
    "    sns.distplot(sim_df.loc[:,did], kde=False, ax=axes[j,i], bins=20, hist_kws={'alpha':0.8})\n",
    "fig.tight_layout()\n",
    "fig.subplots_adjust(top=0.9)"
   ]
  },
  {
   "cell_type": "markdown",
   "metadata": {},
   "source": [
    "The [Pew Research Center](http://www.pewinternet.org/2017/11/29/public-comments-to-the-federal-communications-commission-about-net-neutrality-contain-many-inaccuracies-and-duplicates/) did a study that treated two comments with cosine similarity of 0.95 or above as being effectively duplicated. Using their threshold, I tried out two methods of de-duplicating the data. Both methods revolve around functions that return the index of \"nearby\" duplicate comments that meet the Pew threshold of 0.95. "
   ]
  },
  {
   "cell_type": "markdown",
   "metadata": {},
   "source": [
    "The first function looks at the pariwise similarities for a given comment (excluding the similarity of the comment to itself) and checks for similarities meeting the threshold. If none exist, it returns the ID of the comment itself. If there are comments meeting this threshold, the function returns the index of the most similar comment."
   ]
  },
  {
   "cell_type": "code",
   "execution_count": 172,
   "metadata": {
    "collapsed": true
   },
   "outputs": [],
   "source": [
    "def near_duplicate(comment_id):\n",
    "    non_diag_col = sim_df.loc[sim_df.index != comment_id, comment_id]\n",
    "    near_dup = (non_diag_col >= 0.95)\n",
    "    if near_dup.any():\n",
    "        return non_diag_col.loc[near_dup].idxmax()\n",
    "    else:\n",
    "        return comment_id"
   ]
  },
  {
   "cell_type": "markdown",
   "metadata": {},
   "source": [
    "The second function functions exactly the same as the first except in the case that comments exist meeting the duplicate threshold. If this is the case, the function returns the lowest index value of the set of similar comments. My hope here is that in a group of 10 very similar comments, each will reliably be anchored to a given index (the minimum) even if the precise similarity values are marginally different between comments."
   ]
  },
  {
   "cell_type": "code",
   "execution_count": 174,
   "metadata": {
    "collapsed": true
   },
   "outputs": [],
   "source": [
    "def near_duplicate_alt(comment_id):\n",
    "    non_diag_col = sim_df.loc[sim_df.index != comment_id, comment_id]\n",
    "    near_dup = (non_diag_col >= 0.95)\n",
    "    if near_dup.any():\n",
    "        return str(np.min(non_diag_col.loc[near_dup].index.values.astype('int')))\n",
    "    else:\n",
    "        return comment_id"
   ]
  },
  {
   "cell_type": "markdown",
   "metadata": {},
   "source": [
    "Implement both functions against the original comment text"
   ]
  },
  {
   "cell_type": "code",
   "execution_count": 173,
   "metadata": {},
   "outputs": [],
   "source": [
    "near_dup_match = (pd.Series(comment_text.index.values,\n",
    "                           index = comment_text.index.values)\n",
    "                        .apply(lambda x: near_duplicate(x))\n",
    "                 )"
   ]
  },
  {
   "cell_type": "code",
   "execution_count": 175,
   "metadata": {
    "collapsed": true
   },
   "outputs": [],
   "source": [
    "near_dup_match_alt = (pd.Series(comment_text.index.values,\n",
    "                           index = comment_text.index.values)\n",
    "                        .apply(lambda x: near_duplicate_alt(x))\n",
    "                 )"
   ]
  },
  {
   "cell_type": "markdown",
   "metadata": {},
   "source": [
    "The counts of matched duplicates using each method make me think that the alternate (second) function is better at grouping together similar comments under a mutual index representing them all, and therefore making them easier to de-duplicate. I'll spare some ugly output, but examining the top comments by matches against some of the middle-range ones (10-50 matches) the second one does a better job of picking up mostly similar duplicates"
   ]
  },
  {
   "cell_type": "code",
   "execution_count": 224,
   "metadata": {},
   "outputs": [
    {
     "data": {
      "text/plain": [
       "10428000001057     4061\n",
       "10427001400172     1000\n",
       "1042900075854       809\n",
       "104280311227630     563\n",
       "1043007075629        38\n",
       "10429145232009       32\n",
       "1042815810562        27\n",
       "1042801422130        24\n",
       "104290250814662      20\n",
       "10428003917468       20\n",
       "104283041605798      19\n",
       "104291982927182      14\n",
       "10429013729540       13\n",
       "10429298627238       13\n",
       "1042909599704        12\n",
       "10429070456063       12\n",
       "1042912459376        12\n",
       "104282626906075      12\n",
       "10429021436718       11\n",
       "10429079375703       11\n",
       "dtype: int64"
      ]
     },
     "execution_count": 224,
     "metadata": {},
     "output_type": "execute_result"
    }
   ],
   "source": [
    "near_dup_match.value_counts().head(20)"
   ]
  },
  {
   "cell_type": "code",
   "execution_count": 225,
   "metadata": {},
   "outputs": [
    {
     "data": {
      "text/plain": [
       "1042800175879    4062\n",
       "1042800320378    1581\n",
       "1042700369437    1003\n",
       "1042900075854     854\n",
       "1043007075629      39\n",
       "1042807284028      21\n",
       "1042930845634      21\n",
       "1042909716112      14\n",
       "1042954234454      12\n",
       "1042809128837      11\n",
       "1042817046196      10\n",
       "1042876816445       9\n",
       "1042867657322       8\n",
       "1042886644141       8\n",
       "1042839617911       7\n",
       "1042844960180       7\n",
       "1042897425930       7\n",
       "1042815880412       6\n",
       "1042974510094       6\n",
       "1042809663113       6\n",
       "dtype: int64"
      ]
     },
     "execution_count": 225,
     "metadata": {},
     "output_type": "execute_result"
    }
   ],
   "source": [
    "near_dup_match_alt.value_counts().head(20)"
   ]
  },
  {
   "cell_type": "markdown",
   "metadata": {},
   "source": [
    "**De-Duplicating**  \n",
    "Using the second method described above"
   ]
  },
  {
   "cell_type": "code",
   "execution_count": 204,
   "metadata": {},
   "outputs": [],
   "source": [
    "# make a DF with comment ID as index, with near match column and a column for how many duplicates\n",
    "# comment matches\n",
    "near_match_df = pd.DataFrame(near_dup_match_alt, columns=['near_match'])\n",
    "near_match_df['match_count'] = near_match_df.groupby('near_match').near_match.transform('count')"
   ]
  },
  {
   "cell_type": "code",
   "execution_count": 207,
   "metadata": {},
   "outputs": [],
   "source": [
    "# replace the nearby match for comments with less than 5 matches with their own index\n",
    "five_plus_match = (near_match_df['match_count'] >= 5)\n",
    "near_match_df.loc[~five_plus_match,'near_match'] = pd.Series(near_match_df.index.values,\n",
    "                                                             index=near_match_df.index.values)"
   ]
  },
  {
   "cell_type": "code",
   "execution_count": 209,
   "metadata": {},
   "outputs": [],
   "source": [
    "dedup_comments = comment_text.loc[near_match_df.near_match.unique()].copy()"
   ]
  },
  {
   "cell_type": "markdown",
   "metadata": {},
   "source": [
    "### Rebuild similarity\n",
    "Now there's a largely de-duplicated set, I rebuilt cosine similarity pipeline, including coutn vectorization and tf-idf representation of each comment. "
   ]
  },
  {
   "cell_type": "code",
   "execution_count": 210,
   "metadata": {
    "collapsed": true
   },
   "outputs": [],
   "source": [
    "unique_comment_sim = doc_vec_pipe.fit_transform(dedup_comments.values)"
   ]
  },
  {
   "cell_type": "code",
   "execution_count": 211,
   "metadata": {},
   "outputs": [
    {
     "data": {
      "text/plain": [
       "(2273, 2273)"
      ]
     },
     "execution_count": 211,
     "metadata": {},
     "output_type": "execute_result"
    }
   ],
   "source": [
    "unique_comment_sim.shape"
   ]
  },
  {
   "cell_type": "code",
   "execution_count": 213,
   "metadata": {},
   "outputs": [],
   "source": [
    "u_sim_df = pd.DataFrame(unique_comment_sim, index=dedup_comments.index, columns=dedup_comments.index)"
   ]
  },
  {
   "cell_type": "code",
   "execution_count": 214,
   "metadata": {},
   "outputs": [
    {
     "data": {
      "text/html": [
       "<div>\n",
       "<style>\n",
       "    .dataframe thead tr:only-child th {\n",
       "        text-align: right;\n",
       "    }\n",
       "\n",
       "    .dataframe thead th {\n",
       "        text-align: left;\n",
       "    }\n",
       "\n",
       "    .dataframe tbody tr th {\n",
       "        vertical-align: top;\n",
       "    }\n",
       "</style>\n",
       "<table border=\"1\" class=\"dataframe\">\n",
       "  <thead>\n",
       "    <tr style=\"text-align: right;\">\n",
       "      <th></th>\n",
       "      <th>1042700369437</th>\n",
       "      <th>104270076028229</th>\n",
       "      <th>10427008522807</th>\n",
       "      <th>10427008740029</th>\n",
       "      <th>10427015917315</th>\n",
       "    </tr>\n",
       "  </thead>\n",
       "  <tbody>\n",
       "    <tr>\n",
       "      <th>1042700369437</th>\n",
       "      <td>1.000000</td>\n",
       "      <td>0.074712</td>\n",
       "      <td>0.109886</td>\n",
       "      <td>0.042842</td>\n",
       "      <td>0.043663</td>\n",
       "    </tr>\n",
       "    <tr>\n",
       "      <th>104270076028229</th>\n",
       "      <td>0.074712</td>\n",
       "      <td>1.000000</td>\n",
       "      <td>0.142176</td>\n",
       "      <td>0.049522</td>\n",
       "      <td>0.081031</td>\n",
       "    </tr>\n",
       "    <tr>\n",
       "      <th>10427008522807</th>\n",
       "      <td>0.109886</td>\n",
       "      <td>0.142176</td>\n",
       "      <td>1.000000</td>\n",
       "      <td>0.092348</td>\n",
       "      <td>0.093899</td>\n",
       "    </tr>\n",
       "    <tr>\n",
       "      <th>10427008740029</th>\n",
       "      <td>0.042842</td>\n",
       "      <td>0.049522</td>\n",
       "      <td>0.092348</td>\n",
       "      <td>1.000000</td>\n",
       "      <td>0.030745</td>\n",
       "    </tr>\n",
       "    <tr>\n",
       "      <th>10427015917315</th>\n",
       "      <td>0.043663</td>\n",
       "      <td>0.081031</td>\n",
       "      <td>0.093899</td>\n",
       "      <td>0.030745</td>\n",
       "      <td>1.000000</td>\n",
       "    </tr>\n",
       "  </tbody>\n",
       "</table>\n",
       "</div>"
      ],
      "text/plain": [
       "                 1042700369437  104270076028229  10427008522807  \\\n",
       "1042700369437         1.000000         0.074712        0.109886   \n",
       "104270076028229       0.074712         1.000000        0.142176   \n",
       "10427008522807        0.109886         0.142176        1.000000   \n",
       "10427008740029        0.042842         0.049522        0.092348   \n",
       "10427015917315        0.043663         0.081031        0.093899   \n",
       "\n",
       "                 10427008740029  10427015917315  \n",
       "1042700369437          0.042842        0.043663  \n",
       "104270076028229        0.049522        0.081031  \n",
       "10427008522807         0.092348        0.093899  \n",
       "10427008740029         1.000000        0.030745  \n",
       "10427015917315         0.030745        1.000000  "
      ]
     },
     "execution_count": 214,
     "metadata": {},
     "output_type": "execute_result"
    }
   ],
   "source": [
    "u_sim_df.iloc[:5,:5]"
   ]
  },
  {
   "cell_type": "code",
   "execution_count": 222,
   "metadata": {},
   "outputs": [
    {
     "data": {
      "text/plain": [
       "1042800175879     1.000000\n",
       "10429718408466    0.331069\n",
       "1042839359951     0.306062\n",
       "1043062580419     0.290599\n",
       "1042970440204     0.282896\n",
       "Name: 1042800175879, dtype: float64"
      ]
     },
     "execution_count": 222,
     "metadata": {},
     "output_type": "execute_result"
    }
   ],
   "source": [
    "u_sim_df.loc[:,'1042800175879'].nlargest(5)"
   ]
  },
  {
   "cell_type": "markdown",
   "metadata": {},
   "source": [
    "Re-examining the frequency of different levels of similarity it's clear that this represents a more expected range for more unique documents"
   ]
  },
  {
   "cell_type": "code",
   "execution_count": 221,
   "metadata": {},
   "outputs": [
    {
     "name": "stdout",
     "output_type": "stream",
     "text": [
      "Deciles of computed comment similarity\n",
      "0.1    0.038097\n",
      "0.2    0.058581\n",
      "0.3    0.075635\n",
      "0.4    0.091339\n",
      "0.5    0.106962\n",
      "0.6    0.123631\n",
      "0.7    0.142432\n",
      "0.8    0.165928\n",
      "0.9    0.200886\n",
      "Name: similarity, dtype: float64\n"
     ]
    }
   ],
   "source": [
    "half_df_len = int(np.ceil(len(sim_df)/2.))\n",
    "half_df_long = u_sim_df.iloc[:half_df_len].stack().reset_index()\n",
    "half_df_long.columns = ['comm_1', 'comm_2', 'similarity']\n",
    "half_df_long = half_df_long.loc[(half_df_long.comm_1 != half_df_long.comm_2)].copy()\n",
    "print 'Deciles of computed comment similarity'\n",
    "print half_df_long.similarity.quantile(np.arange(0.1,1,0.1))"
   ]
  },
  {
   "cell_type": "markdown",
   "metadata": {},
   "source": [
    "From here, I think it would be interesting to do some sentiment analysis or topic modeling to compare more original comments to some of the highly repeated comments in order to classify them as being for/against net neutrality."
   ]
  }
 ],
 "metadata": {
  "kernelspec": {
   "display_name": "Python [conda env:fcc]",
   "language": "python",
   "name": "conda-env-fcc-py"
  },
  "language_info": {
   "codemirror_mode": {
    "name": "ipython",
    "version": 2
   },
   "file_extension": ".py",
   "mimetype": "text/x-python",
   "name": "python",
   "nbconvert_exporter": "python",
   "pygments_lexer": "ipython2",
   "version": "2.7.13"
  }
 },
 "nbformat": 4,
 "nbformat_minor": 2
}
